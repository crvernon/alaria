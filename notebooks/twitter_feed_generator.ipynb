{
 "cells": [
  {
   "cell_type": "markdown",
   "id": "aad4ff30-65db-492d-970c-b09b02812bf8",
   "metadata": {},
   "source": [
    "## tweet generator"
   ]
  },
  {
   "cell_type": "code",
   "execution_count": 4,
   "id": "90eaa46b-1be3-4612-aab6-89341aa05094",
   "metadata": {},
   "outputs": [],
   "source": [
    "import glob\n",
    "import os\n",
    "\n",
    "import docx2txt\n",
    "import openai\n",
    "import pandas as pd\n",
    "import PyPDF2\n",
    "from tqdm import tqdm\n",
    "\n",
    "# assumes your openai key is set as an environment variable\n",
    "openai.api_key = os.getenv(\"OPENAI_API_KEY\")\n"
   ]
  },
  {
   "cell_type": "code",
   "execution_count": 31,
   "id": "fb88be3b-6d67-48ee-a5ee-0c2cc68f57c1",
   "metadata": {},
   "outputs": [],
   "source": [
    "def read_pdf(pdf_file):\n",
    "    \n",
    "    content = \"\"\n",
    "    n_pages = 0\n",
    "\n",
    "    # creating a pdf file object\n",
    "    with open(pdf_file, \"rb\") as pdf:\n",
    "\n",
    "        # creating a pdf reader object\n",
    "        reader = PyPDF2.PdfReader(pdf)\n",
    "        \n",
    "        for page in reader.pages:\n",
    "            \n",
    "            page_content = page.extract_text()\n",
    "\n",
    "            if \"References\" in page_content:\n",
    "                content += page_content\n",
    "                break\n",
    "                \n",
    "            else:\n",
    "                content += page_content\n",
    "                \n",
    "            n_pages += 1\n",
    "            \n",
    "    print(n_pages)\n",
    "                \n",
    "    return content\n"
   ]
  },
  {
   "cell_type": "markdown",
   "id": "8bdd545b-137a-4702-a135-94f36eb2202e",
   "metadata": {},
   "source": [
    "### Extract content from example publication"
   ]
  },
  {
   "cell_type": "code",
   "execution_count": 51,
   "id": "eacd084e-7c6d-4ad0-814a-d2dffd1bbd58",
   "metadata": {},
   "outputs": [],
   "source": [
    "# example publication\n",
    "example_one_file = \"/Users/d3y010/Desktop/tweet_generator/s41558-023-01616-5.pdf\"\n",
    "\n",
    "# Yan et al paper\n",
    "target_paper = \"/Users/d3y010/Desktop/tweet_generator/s41597-023-02049-7.pdf\"\n"
   ]
  },
  {
   "cell_type": "markdown",
   "id": "3bda3b7d-52d5-49fb-9896-908529f12f00",
   "metadata": {},
   "source": [
    "### Prompt engineering"
   ]
  },
  {
   "cell_type": "code",
   "execution_count": 52,
   "id": "b8359c03-74f8-44bc-a9f0-a3b3fe76db53",
   "metadata": {},
   "outputs": [],
   "source": [
    "# setting the system scope\n",
    "system_scope = \"\"\"You are a technical science editor who specializes in social media content creation.  You are constructing twitter highlight thread from recent publications.\"\"\"\n"
   ]
  },
  {
   "cell_type": "markdown",
   "id": "b370e01e-6b97-483d-8c54-36c75b66672a",
   "metadata": {},
   "source": [
    "### Zero shot"
   ]
  },
  {
   "cell_type": "code",
   "execution_count": 60,
   "id": "471942ad-46e5-4101-a9f3-285a218dbeba",
   "metadata": {},
   "outputs": [
    {
     "data": {
      "text/plain": [
       "['Tweet 1:',\n",
       " \"🌊 New study characterizes the uncertainty in the Community Land Model version 5's hydrological applications in the US. These insights will help improve drought and flood vulnerability assessments. #MultiSectorDynamics #ClimateChange\",\n",
       " '',\n",
       " 'Tweet 2:',\n",
       " '💧 Researchers use 5 meteorological datasets to evaluate the uncertainty in hydrological parameters of the Community Land Model version 5, a key tool for simulating the terrestrial system. #EarthSystemModel #WaterResources',\n",
       " '',\n",
       " 'Tweet 3:',\n",
       " '🌐 The study provides a benchmark dataset of CLM5 default hydrological performance, parameter sensitivities for 28 hydrological metrics, and large-ensemble outputs for CLM5 hydrological predictions. #Hydrology #ClimateModel',\n",
       " '',\n",
       " 'Tweet 4:',\n",
       " \"🔍 The 28 error metrics in the study offer a diagnostic evaluation of CLM5's hydrological predictability, supporting a wide range of applications such as flood and drought prediction, and reservoir management. #WaterManagement #Resilience\",\n",
       " '',\n",
       " 'Tweet 5:',\n",
       " '🌱 By characterizing uncertainty in CLM5 hydrological parameters, this study aims to guide future applications, including parameter calibration, identifying sensitive parameters, and diagnosing model structure and parameterization. #SustainableSociety #EarthSystems']"
      ]
     },
     "execution_count": 60,
     "metadata": {},
     "output_type": "execute_result"
    }
   ],
   "source": [
    "\n",
    "text = read_pdf(target_paper)[:10000]\n",
    "\n",
    "\n",
    "prompt = \"\"\"\n",
    "- Generate five tweets that summarize key findings in the publication.\n",
    "- Tweets should consider how the findings relates to MultiSector Dynamics.\n",
    "- MultiSector Dynamics is defined as the study of how complex Earth, environmental, infrastructure, governance, and socioeconomic systems coevolve in response to current and rapidly changing influences and stressors. MSD is a transdisciplinary research area that seeks to advance our understanding of how human-Earth system feedback shapes interdependent pathways of societal change across scales and uncertainties. These insights provide a basis for advancing a more resilient, adaptive, and sustainable society.\n",
    "\n",
    "###\n",
    "PROMPT: {0}\n",
    "\n",
    "\"\"\"\n",
    "\n",
    "messages=[{\"role\": \"system\",\n",
    "           \"content\": system_scope},\n",
    "          {\"role\": \"user\",\n",
    "           \"content\": prompt.format(text)}]\n",
    "\n",
    "\n",
    "response = openai.ChatCompletion.create(\n",
    "    model=\"gpt-4\",\n",
    "    max_tokens=1000,\n",
    "    temperature=0.5,\n",
    "    messages=messages)\n",
    "\n",
    "thread = response[\"choices\"][0][\"message\"][\"content\"].split(\"\\n\")\n",
    "\n",
    "thread\n"
   ]
  },
  {
   "cell_type": "markdown",
   "id": "83dc6862-8bad-46c9-8bab-b36fbb29b0ce",
   "metadata": {},
   "source": [
    "### Single shot"
   ]
  },
  {
   "cell_type": "code",
   "execution_count": null,
   "id": "fa0d8037-2024-4968-a288-cc4616648ba7",
   "metadata": {},
   "outputs": [],
   "source": [
    "example_text = read_pdf(example_one_file)[:4000]\n",
    "\n",
    "text = read_pdf(target_paper)[:8000]\n",
    "\n",
    "\n",
    "prompt = \"\"\"\n",
    "- Generate five tweets that summarize key findings in the publication.\n",
    "- Tweets should consider how the findings relates to MultiSector Dynamics.\n",
    "- MultiSector Dynamics is defined as the study of how complex Earth, environmental, infrastructure, governance, and socioeconomic systems coevolve in response to current and rapidly changing influences and stressors. MSD is a transdisciplinary research area that seeks to advance our understanding of how human-Earth system feedback shapes interdependent pathways of societal change across scales and uncertainties. These insights provide a basis for advancing a more resilient, adaptive, and sustainable society.\n",
    "\n",
    "The following are example prompts with appropriate responses:\n",
    "\n",
    "PROMPT: {0}\n",
    "RESPONSE: \n",
    "[Tweet 1/5] Adaptation planning & #MultiSectorDynamics research require an understanding of how local flood risks will evolve over time given global sea level rise. Hermans et al. develop new tools for providing decision-relevant info in Nature Climate Change (see thread)\n",
    "[Tweet 2/5] The new paper by Hermans et al. provides decision-relevant info by estimating the global sea level rise that would lead to different local risk amplification factors (e.g., a 10x or 100x decrease in return period), plus uncertainty in these estimates.\n",
    "[Tweet 3/5] The authors also incorporate globally-variable estimates of design specifications for infrastructure like seawalls and dykes, in order to ground the changing risk profiles in local context and understand when adaptation might be necessary.\n",
    "[Tweet 4/5] This research could improve infrastructure adaptation by providing planners with locally-tailored and time-evolving estimates of changing flood risk profiles. It could also help #MultiSectorDynamics researchers improve the fidelity of risk management decisions in their models.\n",
    "[Tweet 5/5] For more details, see the Nature Climate Change News & Views highlight written by David Johnson.\n",
    "\n",
    "###\n",
    "PROMPT: {1}\n",
    "\n",
    "\"\"\"\n",
    "\n",
    "messages=[{\"role\": \"system\",\n",
    "           \"content\": system_scope},\n",
    "          {\"role\": \"user\",\n",
    "           \"content\": prompt.format(example_text, text)}]\n",
    "\n",
    "\n",
    "response = openai.ChatCompletion.create(\n",
    "    model=\"gpt-4\",\n",
    "    max_tokens=1000,\n",
    "    temperature=0.5,\n",
    "    messages=messages)\n",
    "\n",
    "thread = response[\"choices\"][0][\"message\"][\"content\"].split(\"\\n\")\n",
    "\n",
    "thread\n"
   ]
  },
  {
   "cell_type": "code",
   "execution_count": null,
   "id": "c99a8c7e-86b6-437c-883c-2d9a027375d4",
   "metadata": {},
   "outputs": [],
   "source": []
  }
 ],
 "metadata": {
  "kernelspec": {
   "display_name": "py3.11.2_nlp",
   "language": "python",
   "name": "py3.11.2_nlp"
  },
  "language_info": {
   "codemirror_mode": {
    "name": "ipython",
    "version": 3
   },
   "file_extension": ".py",
   "mimetype": "text/x-python",
   "name": "python",
   "nbconvert_exporter": "python",
   "pygments_lexer": "ipython3",
   "version": "3.11.2"
  }
 },
 "nbformat": 4,
 "nbformat_minor": 5
}

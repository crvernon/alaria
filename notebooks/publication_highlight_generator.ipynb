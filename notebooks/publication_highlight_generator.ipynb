{
 "cells": [
  {
   "cell_type": "markdown",
   "id": "aad4ff30-65db-492d-970c-b09b02812bf8",
   "metadata": {},
   "source": [
    "## Publication highlight generator"
   ]
  },
  {
   "cell_type": "code",
   "execution_count": null,
   "id": "90eaa46b-1be3-4612-aab6-89341aa05094",
   "metadata": {},
   "outputs": [],
   "source": [
    "import glob\n",
    "import os\n",
    "\n",
    "import docx2txt\n",
    "import openai\n",
    "import pandas as pd\n",
    "import PyPDF2\n",
    "from tqdm import tqdm\n",
    "\n",
    "# assumes your openai key is set as an environment variable\n",
    "openai.api_key = os.getenv(\"OPENAI_API_KEY\")\n"
   ]
  },
  {
   "cell_type": "markdown",
   "id": "8bdd545b-137a-4702-a135-94f36eb2202e",
   "metadata": {},
   "source": [
    "### Example title and abstracts to use for training"
   ]
  },
  {
   "cell_type": "code",
   "execution_count": null,
   "id": "eacd084e-7c6d-4ad0-814a-d2dffd1bbd58",
   "metadata": {},
   "outputs": [],
   "source": [
    "# sample text from the publication\n",
    "example_text_one = \"\"\"Title:\n",
    "Multisector Dynamics: Advancing the Science of Complex Adaptive Human-Earth Systems\n",
    "\n",
    "Abstract:\n",
    "The field of MultiSector Dynamics (MSD) explores the dynamics and co-evolutionary pathways of human and Earth systems with a focus on critical goods, services, and amenities delivered to people through interdependent sectors. This commentary lays out core definitions and concepts, identifies MSD science questions in the context of the current state of knowledge, and describes ongoing activities to expand capacities for open science, leverage revolutions in data and computing, and grow and diversify the MSD workforce. Central to our vision is the ambition of advancing the next generation of complex adaptive human-Earth systems science to better address interconnected risks, increase resilience, and improve sustainability. This will require convergent research and the integration of ideas and methods from multiple disciplines. Understanding the tradeoffs, synergies, and complexities that exist in coupled human-Earth systems is particularly important in the context of energy transitions and increased future shocks.\n",
    "\n",
    "\"\"\"\n",
    "\n",
    "example_text_two = \"\"\"Title:\n",
    "The Role of Regional Connections in Planning for Future Power System Operations Under Climate Extremes\n",
    "\n",
    "Abstract:\n",
    "Identifying the sensitivity of future power systems to climate extremes must consider the concurrent effects of changing climate and evolving power systems. We investigated the sensitivity of a Western U.S. power system to isolated and combined heat and drought when it has low (5%) and moderate (31%) variable renewable energy shares, representing historic and future systems. We used an electricity operational model combined with a model of historically extreme drought (for hydropower and freshwater-reliant thermoelectric generators) over the Western U.S. and a synthetic, regionally extreme heat event in Southern California (for thermoelectric generators and electricity load). We found that the drought has the highest impact on summertime production cost (+10% to +12%), while temperature-based deratings have minimal effect (at most +1%). The Southern California heat wave scenario impacting load increases summertime regional net imports to Southern California by 10–14%, while the drought decreases them by 6–12%. Combined heat and drought conditions have a moderate effect on imports to Southern California (−2%) in the historic system and a stronger effect (+8%) in the future system. Southern California dependence on other regions decreases in the summertime with the moderate increase in variable renewable energy (−34% imports), but hourly peak regional imports are maintained under those infrastructure changes. By combining synthetic and historically driven conditions to test two infrastructures, we consolidate the importance of considering compounded heat wave and drought in planning studies and suggest that region-to-region energy transfers during peak periods are key to optimal operations under climate extremes.\n",
    "\"\"\"\n"
   ]
  },
  {
   "cell_type": "markdown",
   "id": "3bda3b7d-52d5-49fb-9896-908529f12f00",
   "metadata": {},
   "source": [
    "### Prompt engineering"
   ]
  },
  {
   "cell_type": "code",
   "execution_count": 36,
   "id": "b8359c03-74f8-44bc-a9f0-a3b3fe76db53",
   "metadata": {},
   "outputs": [],
   "source": [
    "# setting the system scope\n",
    "system_scope = \"\"\"You are a technical science editor.  You are constructing high impact highlight content from recent publications.\"\"\"\n"
   ]
  },
  {
   "cell_type": "markdown",
   "id": "c3ed4a0c-e6ef-4994-a18b-be40aa9921ee",
   "metadata": {},
   "source": [
    "#### For Word document content"
   ]
  },
  {
   "cell_type": "code",
   "execution_count": 37,
   "id": "ed7073b0-0f97-4830-a907-1b5e0dc04a70",
   "metadata": {},
   "outputs": [],
   "source": [
    "# title generation\n",
    "title_prompt = \"\"\"\n",
    "- Generate a title for the highlight that should pique the interest of the reader while also being somewhat descriptive. \n",
    "- Strictly clever titles do not do as well.  \n",
    "- Output as one short sentance. \n",
    "\n",
    "The following are example prompts with appropriate responses:\n",
    "\n",
    "PROMPT: {0}\n",
    "RESPONSE: Setting the Stage for the Future of MultiSector Dynamics Research\n",
    "##\n",
    "PROMPT: {1}\n",
    "RESPONSE: Planning Future Power Systems Under Climate Extreme\n",
    "\n",
    "###\n",
    "PROMPT: {2}\n",
    "\n",
    "\"\"\"\n",
    "\n",
    "# subtitle generation\n",
    "subtitle_prompt = \"\"\"\n",
    "- Provide a short subtitle.\n",
    "- Use no more than 155 characters with spaces.\n",
    "- The goal for the subtitle is to provide further information that will encourage people to read more.  \n",
    "- Do not produce sentances using colons. \n",
    "\n",
    "The following are example prompts with approprate responses:\n",
    "\n",
    "PROMPT: {0}\n",
    "RESPONSE: This commentary defines key terms and concepts for the field of MultiSector Dynamics and identifies important science questions driving the field forward.\n",
    "##\n",
    "PROMPT: {1}\n",
    "RESPONSE: The combined impact of heat waves and drought on the Western U.S. significantly affects energy production costs and interregional transfers during peak hours.\n",
    "\n",
    "### \n",
    "PROMPT: {2}\n",
    "\n",
    "\"\"\"\n",
    "\n",
    "# the science section\n",
    "science_prompt = \"\"\"\n",
    "- Describe the scientific results for a non-expert, non-scientist audience.\n",
    "- Use 75 to 100 words. \n",
    "- The paragraph should be understandable to a high school senior or college freshman. \n",
    "- Use short sentences and short words. \n",
    "- Avoid technical terms if possible; if necessary, define them. \n",
    "- Provide the necessary context so someone can have a very basic understanding of what you did. \n",
    "- Start with things the reader already knows and move on to more complex ideas. \n",
    "\n",
    "The following are example prompts with approprate responses:\n",
    "\n",
    "PROMPT: {0}\n",
    "RESPONSE: MultiSector Dynamics (MSD) is a scientific field that studies the co-evolution of human and Earth systems. Example research areas include sustainability, climate change risks, and energy system transitions. In this commentary we provide definitions for core concepts and themes in the field. We also describe important science questions, ongoing activities, and provide a vision for the field moving forward. A key part of the future vision is the goal to facilitate a diverse, transdisciplinary workforce and to leverage open science to tackle MSD problems.\n",
    "##\n",
    "PROMPT: {1}\n",
    "RESPONSE: This study investigates the importance of the interactions between climate change and energy system transitions for power system planning and operations. The research examines the individual and combined impacts of a Southern California heat wave and a Western U.S. drought on the historical (5% renewables) and a projected future Western U.S. power system (31% renewables). The key findings are that drought has a higher impact on energy production costs than the heat wave, the cost increases for the combined events are similar to the drought scenario alone, and interregional transfers during peak demand hours are complex and highly sensitive to extreme events and the generation mix.\n",
    "\n",
    "### \n",
    "PROMPT: {2}\n",
    "\n",
    "\"\"\"\n",
    "\n",
    "# the impact section\n",
    "impact_prompt = \"\"\"\n",
    "- Describe the impact of the research to a non-expert, non-scientist audience.\n",
    "- Use 75-100 words. \n",
    "- The impact of use-inspired science is typically a potential technological advance while the impact of discovery research might be to open up new frontiers of science or resolve a long-standing question. \n",
    "- The paragraph should be understandable to a high school senior or college freshman. \n",
    "- Use short sentences and short words. \n",
    "- Avoid technical terms if possible; if necessary, define them. \n",
    "- Include fields impacted such as energy generation, quantum computing, disease diagnostics, etc. \n",
    "\n",
    "The following are example prompts with approprate responses:\n",
    "\n",
    "PROMPT: {0}\n",
    "RESPONSE: This is the first paper that comprehensively describes the field of MultiSector Dynamics, carefully laying out key terms and concepts for the community. The survey of existing research in the field is a useful marker for where we are and where we want and need to go. This paper will help grow the MSD community by making it easier for new researchers to assimilate into the field.\n",
    "##\n",
    "PROMPT: {1}\n",
    "RESPONSE: This research highlights the importance of considering the compounded effects of extreme heat and drought in planning studies for evolving power systems. The study emphasizes the need for interregional coordination to respond to extreme events such as heat and drought and identifies supply-side water stress and demand-side temperature stress as key variables that need to be considered. The findings of the study can help power system planners focus on scenario development, model complexity, and computational power for improving the operational efficiency of power systems under extreme weather conditions. The limitations of the study highlight the need for further research to address the challenges faced by power systems due to extreme weather conditions.\n",
    "\n",
    "### \n",
    "PROMPT: {2}\n",
    "\n",
    "\"\"\"\n",
    "\n",
    "# the summary section\n",
    "summary_prompt = \"\"\"\n",
    "- A paragraph or two with additional details of the work. \n",
    "- Use no more than 200 words.\n",
    "- It should be still accessible to the non-specialist but may be more technical if necessary. \n",
    "- As a point of style, we usually do not mention the name of the institution. \n",
    "- If there is a DOE Office of Science user facility involved, such as NERSC, you can mention the user facility. \n",
    "\n",
    "The following are example prompts with approprate responses:\n",
    "\n",
    "PROMPT: {0}\n",
    "RESPONSE:  The field of MultiSector Dynamics (MSD) explores the dynamics and co-evolutionary pathways of human and Earth systems with a focus on critical goods, services, and amenities delivered to people through interdependent sectors. This commentary lays out core definitions and concepts, identifies MSD science questions in the context of the current state of knowledge, and describes ongoing activities to expand capacities for open science, leverage revolutions in data and computing, and grow and diversify the MSD workforce. Central to our vision is the ambition of advancing the next generation of complex adaptive human-Earth systems science to better address interconnected risks, increase resilience, and improve sustainability. This will require convergent research and the integration of ideas and methods from multiple disciplines. Understanding the tradeoffs, synergies, and complexities that exist in coupled human-Earth systems is particularly important in the context of energy transitions and increased future shocks.\n",
    "##\n",
    "PROMPT: {1}\n",
    "RESPONSE: This study evaluates the sensitivity of the Western U.S. power grid to the impact of a single drought scenario and a single Southern California heat wave scenario on generation and load, simulating two levels of variable renewable generation shares in each scenario (5% and 31%). The findings suggest that the Western U.S. responds to drought by using additional natural gas generation and to Southern California heat by leveraging the system's interconnectedness. During peak times, regional transfers are just as high in the moderate variable renewable energy (VRE) system as in the low VRE system simulated, highlighting the need for hourly interregional transfers and related transmission expansion, energy storage, or market flexibility solutions. The study demonstrates the importance of modeling water-based grid stress and extreme electricity demand scenarios, and the need to use power system models that represent regional grid interactions to design and evaluate infrastructure under extreme events. These findings are crucial in developing a risk-based approach to planning for extreme events and improving the operational efficiency of power systems under extreme weather conditions. The study provides a valuable toolset that can be expanded to incorporate other grid stressors in high-resolution power system models.\n",
    "\n",
    "### \n",
    "PROMPT: {2}\n",
    "\n",
    "\"\"\"\n"
   ]
  },
  {
   "cell_type": "markdown",
   "id": "f7455031-e604-430a-a2ae-4e9d0be3fc4f",
   "metadata": {},
   "source": [
    "#### For powerpoint content"
   ]
  },
  {
   "cell_type": "code",
   "execution_count": 38,
   "id": "ab29a5cd-955c-4735-a3d3-f7dfc80356a4",
   "metadata": {},
   "outputs": [],
   "source": [
    "ppt_objective_prompt = \"\"\"\n",
    "- One sentence stating the core purpose of the study.\n",
    "\n",
    "The following are example prompts with approprate responses:\n",
    "\n",
    "PROMPT: {0}\n",
    "RESPONSE: This commentary defines key terms and concepts for the field of MultiSector Dynamics and identifies important science questions driving the field forward.\n",
    "##\n",
    "PROMPT: {1}\n",
    "RESPONSE: This study investigates the effects of temperature and drought extremes on the Western U.S. power grid, while taking into account the increasing penetration of variable renewable energy sources, using a high-resolution operational power system model.\n",
    "\n",
    "### \n",
    "PROMPT: {2}\n",
    "\n",
    "\"\"\"\n",
    "\n",
    "ppt_approach_prompt = \"\"\"\n",
    "- Clearly and concisely state in 2-3 points how this work accomplished the stated objective.\n",
    "\n",
    "The following are example prompts with approprate responses:\n",
    "\n",
    "PROMPT: {0}\n",
    "RESPONSE: \n",
    "- MultiSector Dynamics (MSD) is a scientific field that studies the co-evolution of human and Earth systems. Example research areas include sustainability, climate change, and energy transitions.\n",
    "- In this commentary we provide definitions for core concepts and themes in the field. We also describe important science questions, ongoing activities, and provide a vision for the field moving forward. \n",
    "- A key part of the future vision is the goal to facilitate a diverse, transdisciplinary workforce and to leverage open science to tackle MSD problems.\n",
    "##\n",
    "PROMPT: {1}\n",
    "RESPONSE:\n",
    "- Evaluated contemporary and hypothesized Western U.S. infrastructures with 5% and 31% variable renewable generation shares for sensitivity to drought and Southern California heat wave scenarios on generation and load.\n",
    "- Used a stochastic temperature simulation combined with spatially resolved historical drought as a toolset to incorporate other grid stressors in high-resolution power system models, leading to improved sensitivity analyses not limited by the current ability of climate models to capture extreme conditions.\n",
    "\n",
    "### \n",
    "PROMPT: {2}\n",
    "\n",
    "\"\"\"\n",
    "\n",
    "ppt_impact_prompt = \"\"\"\n",
    "- Clearly and concisely state in 2-3 points the critical results and outcomes from this research.\n",
    "\n",
    "The following are example prompts with approprate responses:\n",
    "\n",
    "PROMPT: {0}\n",
    "RESPONSE:\n",
    "- This is the first paper that comprehensively describes the field of MultiSector Dynamics, carefully laying out key terms and concepts for the community.\n",
    "- The survey of existing research in the field is a useful marker for where we are and where we want and need to go.\n",
    "- This paper will help grow the MSD community by making it easier for new researchers to assimilate into the field.\n",
    "##\n",
    "PROMPT: {1}\n",
    "RESPONSE:\n",
    "- Highlights the need to consider regional connectedness in planning for extreme events and that this need may persist with increasing penetration of variable renewable energy resources.\n",
    "- Emphasizes the importance of modeling water-based grid stress and extreme electricity demand scenarios with high-resolution power system models for a risk-based approach to planning for extreme events.\n",
    "\n",
    "### \n",
    "PROMPT: {2}\n",
    "\n",
    "\"\"\"\n"
   ]
  },
  {
   "cell_type": "code",
   "execution_count": null,
   "id": "bd5c26f6-348b-40c5-9992-51e4194a9a3f",
   "metadata": {},
   "outputs": [],
   "source": []
  },
  {
   "cell_type": "markdown",
   "id": "6eced9e0-8900-4160-96fa-9db7490a3ee5",
   "metadata": {},
   "source": [
    "### Content for highlight.  Usually the title and abstract of the publication."
   ]
  },
  {
   "cell_type": "code",
   "execution_count": null,
   "id": "8a73accf-3f5e-4603-a063-5faef705de77",
   "metadata": {},
   "outputs": [],
   "source": [
    "text = \"\"\"Title:\n",
    "Addressing Uncertainty in MultiSector Dynamics Research\n",
    "\n",
    "Abstract:\n",
    "This online book is meant to provide an open science “living” resource on uncertainty characterization methods for the MultiSector Dynamics (MSD) community and other technical communities confronting sustainability, climate, and energy transition challenges. The last decade has seen rapid growth in science efforts seeking to address the interconnected nature of these challenges across scales, sectors, and systems. Accompanying these advances is the growing realization that the deep integration of research from many disciplinary fields is non-trivial and raises important questions. How and why models are developed seems to have an obvious answer (“to gain understanding”). But what does it actually mean to gain understanding? What if a small change in a model or its data fundamentally changes our perceptions of what we thought we understood? What controls the outcomes of our model(s)? How do we understand the implications of model coupling, such as when one model is on the receiving end of several other models that are considered “input data”?\n",
    "The often quoted “All models are wrong, but some are useful.” (George Box) is a bit of a conflation trap, often used to excuse known weaknesses in complex models as just an unavoidable outcome of being a modeler. In fact, the quote actually refers to a specific class of small-scale statistical models within an application context that assures a much higher degree of understanding and data quality control than is typical for the coupled human-natural systems applications in the MSD area. Moreover, Box was actually warning readers to avoid overparameterization and emphasizing the need to better understand what underlying factors cause your model to be wrong [1].\n",
    "So, in short, there is a tension when attaining better performance by means of increasing the complexity of a model or model-based workflow. Box highlights that a modeler requires a clear diagnostic understanding of this performance-complexity tradeoff. If we move from small-scale models simulating readily-observed phenomena to the MSD context, things get quite a bit more complicated. How can we provide robust insights for unseen futures that emerge across a myriad of human and natural systems? Sometimes even asking, “what is a model?” or “what is data?” is complicated (e.g., data assimilated weather products, satellite-based signals translated through retrieval algorithms, demographic changes, resource demands, etc.). This MSD guidance text seeks to help readers navigate these challenges. It is meant to serve as an evolving resource that helps the MSD community learn how to better address uncertainty while working with complex chains of models bridging sectors, scales, and systems. It is not intended to be an exhaustive resource, but instead should be seen as a guided tour through state-of-the-science methods in uncertainty characterization, including global sensitivity analysis and exploratory modeling, to provide insights into complex human-natural systems interactions.\n",
    "To aid readers in navigating the text, the key goals for each chapter are summarized below.\n",
    "Chapter 1 uses the Integrated Multisector Multiscale Modeling project as a living lab to encapsulate the challenges that emerge in bridging disciplines to make consequential model-based insights while acknowledging the tremendous array of uncertainties that shape them.\n",
    "Chapter 2 helps the reader to better understand the importance of using diagnostic modeling to interrogate why uncertain model behaviors may emerge. The chapter also aids readers to better understand the diverse disciplinary perspectives that exist on how best to pursue consequential model-based discoveries.\n",
    "Chapter 3 is a technical tools-focused primer for readers on the key elements of uncertainty characterization that includes ensemble-based design of experiments, quantitative methods for computing global sensitivities, and a summary of existing software packages.\n",
    "Chapter 4 narrates for readers how and why the tools from the previous chapter can be applied in a range of tasks from diagnosing model performance to formal exploratory modeling methods for making consequential model-based discoveries.\n",
    "The supplemental appendices provided in the text are also important resources for readers. They provide a glossary to help bridge terminology challenges, a brief summary of uncertainty quantification tools for more advanced readers, and a suite of Jupyter notebook tutorials that provide hands-on training tied to the contents of Chapter 3 and Chapter 4.\n",
    "This text was written with a number of different audiences in mind.\n",
    "Technical experts in uncertainty may find this to be a helpful and unique resource bridging a number of perspectives that have not been combined in prior books (e.g., formal model diagnostics, global sensitivity analysis, and exploratory modeling under deep uncertainty).\n",
    "Readers from different sector-specific and disciplinary-specific backgrounds can use this text to better understand potential differences and opportunities in how to make model-based insights.\n",
    "Academic or junior researchers can utilize this freely available text for training and teaching resources that include hands-on coding experiences.\n",
    "This text itself represents our strong commitment to open science and will evolve as a living resource as the communities of researchers provide feedback, innovations, and future tools.\"\"\"\n"
   ]
  },
  {
   "cell_type": "markdown",
   "id": "9402c9c7-5033-4912-9df8-e42da4762392",
   "metadata": {},
   "source": [
    "### Generate content sections for the Word document"
   ]
  },
  {
   "cell_type": "code",
   "execution_count": null,
   "id": "5c22409f-064c-4703-b9c7-92fcd744e94f",
   "metadata": {},
   "outputs": [],
   "source": [
    "messages=[{\"role\": \"system\",\n",
    "           \"content\": system_scope},\n",
    "          {\"role\": \"user\",\n",
    "           \"content\": title_prompt.format(example_text_one, example_text_two, text)}]\n",
    "\n",
    "\n",
    "response = openai.ChatCompletion.create(\n",
    "    model=\"gpt-4\",\n",
    "    max_tokens=3000,\n",
    "    temperature=0.7,\n",
    "    messages=messages)\n",
    "\n",
    "title_content = response[\"choices\"][0][\"message\"][\"content\"]\n",
    "\n",
    "title_content\n"
   ]
  },
  {
   "cell_type": "code",
   "execution_count": null,
   "id": "862da212-495f-4c7d-b9f1-d0112853bb85",
   "metadata": {},
   "outputs": [],
   "source": [
    "messages=[{\"role\": \"system\",\n",
    "           \"content\": system_scope},\n",
    "          {\"role\": \"user\",\n",
    "           \"content\": subtitle_prompt.format(example_text_one, example_text_two, text)}]\n",
    "\n",
    "response = openai.ChatCompletion.create(\n",
    "    model=\"gpt-4\",\n",
    "    max_tokens=3000,\n",
    "    temperature=0.5,\n",
    "    messages=messages)\n",
    "\n",
    "subtitle_content = response[\"choices\"][0][\"message\"][\"content\"]\n",
    "\n",
    "subtitle_content\n"
   ]
  },
  {
   "cell_type": "code",
   "execution_count": null,
   "id": "05fa8ac1-d6b2-42ae-abc3-11e349be900a",
   "metadata": {},
   "outputs": [],
   "source": [
    "messages=[{\"role\": \"system\",\n",
    "           \"content\": system_scope},\n",
    "          {\"role\": \"user\",\n",
    "           \"content\": science_prompt.format(example_text, example_text_two, text)}]\n",
    "\n",
    "response = openai.ChatCompletion.create(\n",
    "    model=\"gpt-4\",\n",
    "    max_tokens=3000,\n",
    "    temperature=0.5,\n",
    "    messages=messages)\n",
    "\n",
    "science_content = response[\"choices\"][0][\"message\"][\"content\"]\n",
    "\n",
    "science_content\n"
   ]
  },
  {
   "cell_type": "code",
   "execution_count": null,
   "id": "be065590-6e2a-4041-b4c1-7c39dad161bd",
   "metadata": {},
   "outputs": [],
   "source": [
    "messages=[{\"role\": \"system\",\n",
    "           \"content\": system_scope},\n",
    "          {\"role\": \"user\",\n",
    "           \"content\": impact_prompt.format(example_text_one, example_text_two, text)}]\n",
    "\n",
    "response = openai.ChatCompletion.create(\n",
    "    model=\"gpt-4\",\n",
    "    max_tokens=3000,\n",
    "    temperature=0.5,\n",
    "    messages=messages)\n",
    "\n",
    "impact_content = response[\"choices\"][0][\"message\"][\"content\"]\n",
    "\n",
    "impact_content\n"
   ]
  },
  {
   "cell_type": "code",
   "execution_count": null,
   "id": "803f35a7-8a7f-4686-a035-b6a8c99f6d6c",
   "metadata": {},
   "outputs": [],
   "source": [
    "messages=[{\"role\": \"system\",\n",
    "           \"content\": system_scope},\n",
    "          {\"role\": \"user\",\n",
    "           \"content\": summary_prompt.format(example_text_one, example_text_two, text)}]\n",
    "\n",
    "response = openai.ChatCompletion.create(\n",
    "    model=\"gpt-4\",\n",
    "    max_tokens=3000,\n",
    "    temperature=0.5,\n",
    "    messages=messages)\n",
    "\n",
    "summary_content = response[\"choices\"][0][\"message\"][\"content\"].replace(\"\\n\\n\", \" \")\n",
    "\n",
    "summary_content\n"
   ]
  },
  {
   "cell_type": "markdown",
   "id": "a4432d6a-af4d-4764-a20c-9283a8f41f38",
   "metadata": {},
   "source": [
    "### Generate content for the powerpoint template"
   ]
  },
  {
   "cell_type": "code",
   "execution_count": 39,
   "id": "a5e13615-fdd0-4912-9a67-8930672dfc7d",
   "metadata": {},
   "outputs": [
    {
     "data": {
      "text/plain": [
       "'RESPONSE: This online book serves as a living resource to guide the MultiSector Dynamics community in addressing uncertainty and navigating the challenges associated with complex chains of models bridging sectors, scales, and systems, while providing insights into human-natural systems interactions.'"
      ]
     },
     "execution_count": 39,
     "metadata": {},
     "output_type": "execute_result"
    }
   ],
   "source": [
    "messages=[{\"role\": \"system\",\n",
    "           \"content\": system_scope},\n",
    "          {\"role\": \"user\",\n",
    "           \"content\": ppt_objective_prompt.format(example_text_one, example_text_two, text)}]\n",
    "\n",
    "response = openai.ChatCompletion.create(\n",
    "    model=\"gpt-4\",\n",
    "    max_tokens=3000,\n",
    "    temperature=0.5,\n",
    "    messages=messages)\n",
    "\n",
    "ppt_objective_content = response[\"choices\"][0][\"message\"][\"content\"].replace(\"\\n\\n\", \" \")\n",
    "\n",
    "ppt_objective_content\n"
   ]
  },
  {
   "cell_type": "code",
   "execution_count": 40,
   "id": "28a02b2d-582e-4139-b043-64e707029a9c",
   "metadata": {},
   "outputs": [
    {
     "data": {
      "text/plain": [
       "'RESPONSE:\\n- This online book serves as a living resource for the MultiSector Dynamics (MSD) community, addressing uncertainty characterization methods and providing guidance on navigating challenges in complex model-based workflows.\\n- The book is divided into four chapters, covering the challenges of bridging disciplines, the importance of diagnostic modeling, a technical primer on uncertainty characterization, and the application of these tools in various tasks. The supplemental appendices include a glossary, a summary of uncertainty quantification tools, and hands-on Jupyter notebook tutorials.'"
      ]
     },
     "execution_count": 40,
     "metadata": {},
     "output_type": "execute_result"
    }
   ],
   "source": [
    "messages=[{\"role\": \"system\",\n",
    "           \"content\": system_scope},\n",
    "          {\"role\": \"user\",\n",
    "           \"content\": ppt_approach_prompt.format(example_text_one, example_text_two, text)}]\n",
    "\n",
    "response = openai.ChatCompletion.create(\n",
    "    model=\"gpt-4\",\n",
    "    max_tokens=3000,\n",
    "    temperature=0.5,\n",
    "    messages=messages)\n",
    "\n",
    "ppt_approach_content = response[\"choices\"][0][\"message\"][\"content\"].replace(\"\\n\\n\", \" \")\n",
    "\n",
    "ppt_approach_content\n"
   ]
  },
  {
   "cell_type": "code",
   "execution_count": 41,
   "id": "5d98cd1b-9ad7-462b-ae45-a02049ea5e2f",
   "metadata": {},
   "outputs": [
    {
     "data": {
      "text/plain": [
       "'RESPONSE:\\n- The online book serves as a comprehensive and evolving resource for understanding and addressing uncertainty in MultiSector Dynamics research, including global sensitivity analysis and exploratory modeling.\\n- The text is designed for various audiences, including technical experts, researchers from different backgrounds, and academics, and includes hands-on coding experiences and training resources to facilitate learning and application.'"
      ]
     },
     "execution_count": 41,
     "metadata": {},
     "output_type": "execute_result"
    }
   ],
   "source": [
    "messages=[{\"role\": \"system\",\n",
    "           \"content\": system_scope},\n",
    "          {\"role\": \"user\",\n",
    "           \"content\": ppt_impact_prompt.format(example_text_one, example_text_two, text)}]\n",
    "\n",
    "response = openai.ChatCompletion.create(\n",
    "    model=\"gpt-4\",\n",
    "    max_tokens=3000,\n",
    "    temperature=0.5,\n",
    "    messages=messages)\n",
    "\n",
    "ppt_impact_content = response[\"choices\"][0][\"message\"][\"content\"].replace(\"\\n\\n\", \" \")\n",
    "\n",
    "ppt_impact_content\n"
   ]
  },
  {
   "cell_type": "code",
   "execution_count": null,
   "id": "d4971f47-765f-4017-b11b-ca8327c3ce4f",
   "metadata": {},
   "outputs": [],
   "source": []
  },
  {
   "cell_type": "code",
   "execution_count": null,
   "id": "f8978f2e-8b36-4efc-8983-2d7f13dc90a4",
   "metadata": {},
   "outputs": [],
   "source": []
  },
  {
   "cell_type": "code",
   "execution_count": null,
   "id": "f8a8e5da-5103-4dac-9b96-18cdd3720060",
   "metadata": {},
   "outputs": [],
   "source": []
  }
 ],
 "metadata": {
  "kernelspec": {
   "display_name": "py3.11.2_nlp",
   "language": "python",
   "name": "py3.11.2_nlp"
  },
  "language_info": {
   "codemirror_mode": {
    "name": "ipython",
    "version": 3
   },
   "file_extension": ".py",
   "mimetype": "text/x-python",
   "name": "python",
   "nbconvert_exporter": "python",
   "pygments_lexer": "ipython3",
   "version": "3.11.2"
  }
 },
 "nbformat": 4,
 "nbformat_minor": 5
}
